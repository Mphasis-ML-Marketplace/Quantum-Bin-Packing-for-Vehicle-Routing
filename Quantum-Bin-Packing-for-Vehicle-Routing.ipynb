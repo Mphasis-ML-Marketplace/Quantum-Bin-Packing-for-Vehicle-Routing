{
 "cells": [
  {
   "cell_type": "markdown",
   "id": "f9e030d4",
   "metadata": {},
   "source": [
    "# Quantum bin packing for vehicle routing"
   ]
  },
  {
   "cell_type": "markdown",
   "id": "f28df29d",
   "metadata": {},
   "source": [
    "Our optimal bin packing solution for vehicle routing ensures efficient space utilization while enabling sequential unloading based on delivery routes for quick retrieval. It optimizes structural stability by considering the center of mass, package orientation, and load-bearing constraints.\n",
    "\n",
    "This sample notebook shows you how to execute Quantum bin packing for vehicle routing Algorithm from AWS Marketplace"
   ]
  },
  {
   "cell_type": "markdown",
   "id": "b839a897",
   "metadata": {},
   "source": [
    " **Note**: This is a reference notebook and it cannot run unless you make changes suggested in the notebook."
   ]
  },
  {
   "cell_type": "markdown",
   "id": "9563c4f5",
   "metadata": {},
   "source": [
    "### Pre-requisites:"
   ]
  },
  {
   "cell_type": "markdown",
   "id": "9bf9522c",
   "metadata": {},
   "source": [
    "1. **Note**: This notebook contains elements which render correctly in Jupyter interface. Open this notebook from an Amazon SageMaker Notebook Instance or Amazon SageMaker Studio.\n",
    "2. Ensure that IAM role used has **AmazonSageMakerFullAccess**\n",
    "3. Some hands-on experience using Amazon SageMaker.\n",
    "4. To use this algorithm successfully, ensure that:  \n",
    "    A. Either your IAM role has these three permissions and you have authority to make AWS Marketplace subscriptions in the            AWS account used:  \n",
    "&nbsp;&nbsp;&nbsp;&nbsp;            a. **aws-marketplace:ViewSubscriptions**  \n",
    "&nbsp;&nbsp;&nbsp;&nbsp;            b. **aws-marketplace:Unsubscribe**  \n",
    "&nbsp;&nbsp;&nbsp;&nbsp;            c. **aws-marketplace:Subscribe**  \n",
    "    B. or your AWS account has a subscription to For Seller to update: Quantum bin packing for vehicle routing.\n"
   ]
  },
  {
   "cell_type": "markdown",
   "id": "d94de5b0",
   "metadata": {},
   "source": [
    "### Contents"
   ]
  },
  {
   "cell_type": "markdown",
   "id": "70acee6c",
   "metadata": {},
   "source": [
    "1. [Subscribe to the algorithm]()\n",
    "2. [Prepare dataset]()  \n",
    "    A. [Dataset format expected by the algorithm]()  \n",
    "    B. [Configure dataset]()  \n",
    "    C. [Upload datasets to Amazon S3]()  \n",
    "3. [Execute optimization model]()  \n",
    "    A. [Set up environment]()    \n",
    "    B. [Execute model]()  \n",
    "    C. [Visualize Output]()  \n",
    "4. [Clean-up]()  \n",
    "    A. [Unsubscribe to the listing (optional))]()"
   ]
  },
  {
   "cell_type": "markdown",
   "id": "de94e6da",
   "metadata": {},
   "source": [
    "### 1. Subscribe to the algorithm"
   ]
  },
  {
   "cell_type": "markdown",
   "id": "1e1496d2",
   "metadata": {},
   "source": [
    "To subscribe to the algorithm:  \n",
    "&nbsp; 1. Open the algorithm listing page **Quantum bin packing for vehicle routing**  \n",
    "&nbsp; 2. On the AWS Marketplace listing, click on **Continue to subscribe** button.  \n",
    "&nbsp; 3. On the **Subscribe to this software** page, review and click on \"**Accept Offer**\" if you agree with EULA, pricing, and support terms.  \n",
    "&nbsp; 4. Once you click on **Continue to configuration button** and then choose a **region**, you will see a **Product Arn**. This is the algorithm ARN that you need to specify while training a custom ML model. Copy the ARN corresponding to your region and specify the same in the following cell."
   ]
  },
  {
   "cell_type": "code",
   "execution_count": null,
   "id": "7849ef59-ad2c-404d-b71b-347aaf4a82ff",
   "metadata": {
    "tags": []
   },
   "outputs": [],
   "source": [
    "algo_arn = \"your algo arn\""
   ]
  },
  {
   "cell_type": "markdown",
   "id": "43be978d",
   "metadata": {},
   "source": [
    "### 2. Prepare dataset"
   ]
  },
  {
   "cell_type": "code",
   "execution_count": null,
   "id": "39bb7c60-616c-43d6-a827-8ad2657a2a51",
   "metadata": {
    "tags": []
   },
   "outputs": [],
   "source": [
    "import os\n",
    "import json \n",
    "import uuid\n",
    "import boto3\n",
    "import pickle\n",
    "import base64\n",
    "import tarfile\n",
    "from pprint import pprint\n",
    "from PIL import Image\n",
    "\n",
    "import numpy as np\n",
    "import pandas as pd\n",
    "\n",
    "import urllib.request\n",
    "from urllib.parse import urlparse\n",
    "\n",
    "import sagemaker as sage\n",
    "from sagemaker import ModelPackage\n",
    "from sagemaker import get_execution_role"
   ]
  },
  {
   "cell_type": "markdown",
   "id": "309dd05a",
   "metadata": {},
   "source": [
    "#### A. Dataset format expected by the algorithm"
   ]
  },
  {
   "cell_type": "markdown",
   "id": "153f2c8a",
   "metadata": {},
   "source": [
    "The algorithm requires data in the format as described for best results:  \n",
    "\n",
    "&nbsp; 1. Input File name should be input_zip.zip.  \n",
    "&nbsp; 2. The input data files must contain two csv files.  \n",
    "&nbsp; 3. For detailed instructions, please refer sample notebook and algorithm input details.  "
   ]
  },
  {
   "cell_type": "markdown",
   "id": "59928966",
   "metadata": {},
   "source": [
    "#### B. Configure dataset"
   ]
  },
  {
   "cell_type": "code",
   "execution_count": 15,
   "id": "8f3baaba-3bff-45d1-a9d7-d89b253abd02",
   "metadata": {
    "tags": []
   },
   "outputs": [],
   "source": [
    "training_dataset=\"Input/input_zip.zip\""
   ]
  },
  {
   "cell_type": "markdown",
   "id": "25c6472b",
   "metadata": {},
   "source": [
    "#### C. Upload datasets to Amazon S3"
   ]
  },
  {
   "cell_type": "code",
   "execution_count": 16,
   "id": "cc5c092f-3c32-405e-9625-8c96af356878",
   "metadata": {
    "tags": []
   },
   "outputs": [],
   "source": [
    "role = get_execution_role()"
   ]
  },
  {
   "cell_type": "code",
   "execution_count": null,
   "id": "94021442-04e2-4a1d-9341-d8f865d40242",
   "metadata": {
    "tags": []
   },
   "outputs": [],
   "source": [
    "sagemaker_session = sage.Session()\n",
    "\n",
    "bucket = sagemaker_session.default_bucket()\n",
    "bucket"
   ]
  },
  {
   "cell_type": "code",
   "execution_count": null,
   "id": "f868b73a-84a2-42f3-883e-58c280849af7",
   "metadata": {
    "tags": []
   },
   "outputs": [],
   "source": [
    "# training input location\n",
    "common_prefix = \"bin-packing\"\n",
    "training_input_prefix = common_prefix + \"/training-input-data\"\n",
    "TRAINING_WORKDIR = \"Input\" #Input directory in Jupyter Server\n",
    "training_input = sagemaker_session.upload_data(TRAINING_WORKDIR, key_prefix=training_input_prefix) #uploads data from jupyter server to S3\n",
    "print(\"Training input uploaded to \" + training_input)"
   ]
  },
  {
   "cell_type": "markdown",
   "id": "48895d28",
   "metadata": {},
   "source": [
    "### 3. Execute the training process"
   ]
  },
  {
   "cell_type": "markdown",
   "id": "192aa4a3",
   "metadata": {},
   "source": [
    "Now that dataset is available in an accessible Amazon S3 bucket, we are ready to execute a training pipeline to get clean sentiment class labels using clean-sentiment-classification-labels Algorithm."
   ]
  },
  {
   "cell_type": "markdown",
   "id": "7bf151a3",
   "metadata": {},
   "source": [
    "#### 3.1 Set up environment"
   ]
  },
  {
   "cell_type": "code",
   "execution_count": 19,
   "id": "d3b7b797-75dc-4e7c-8bf0-b7c3ad5d4e76",
   "metadata": {
    "tags": []
   },
   "outputs": [],
   "source": [
    "output_location = 's3://{}/bin-packing/{}'.format(bucket, 'Output')"
   ]
  },
  {
   "cell_type": "markdown",
   "id": "e3a27562",
   "metadata": {},
   "source": [
    "#### 3.2 Execute model"
   ]
  },
  {
   "cell_type": "markdown",
   "id": "faaa03f6",
   "metadata": {},
   "source": [
    "For information on creating an Estimator object, see [documentation](https://sagemaker.readthedocs.io/en/stable/api/training/estimators.html)"
   ]
  },
  {
   "cell_type": "code",
   "execution_count": 20,
   "id": "fdd632db-e9f1-4805-b6f8-21de1f9d4367",
   "metadata": {
    "tags": []
   },
   "outputs": [],
   "source": [
    "training_instance_type=\"ml.m5.4xlarge\""
   ]
  },
  {
   "cell_type": "code",
   "execution_count": 21,
   "id": "f2ff4fff-503f-4944-9518-c4a3c0c709f4",
   "metadata": {
    "tags": []
   },
   "outputs": [
    {
     "name": "stderr",
     "output_type": "stream",
     "text": [
      "INFO:sagemaker:Creating training-job with name: bin-packing-v3-2025-03-05-12-32-34-584\n"
     ]
    },
    {
     "name": "stdout",
     "output_type": "stream",
     "text": [
      "2025-03-05 12:32:35 Starting - Starting the training job...\n",
      "2025-03-05 12:33:07 Downloading - Downloading input data...\n",
      "2025-03-05 12:33:27 Training - Training image download completed. Training in progress...\u001b[34mNumber of cases: 51\u001b[0m\n",
      "\u001b[34mMinimum Number of bins required: 1\u001b[0m\n",
      "\u001b[34m  Binary    Integer    Continuous    Quad    Linear    One-hot    EQ      LT    GT\u001b[0m\n",
      "\u001b[34m--------  ---------  ------------  ------  --------  ---------  ------  ----  ----\n",
      "    7956          0           154       0     10156       1326    2353  7803     0\u001b[0m\n",
      "\u001b[34mSaved solution to /opt/ml/model/output_zip/Output.txt\u001b[0m\n",
      "\u001b[34mFolder 'output_zip' has been zipped into '/opt/ml/model/output_zip.zip'.\u001b[0m\n",
      "\n",
      "2025-03-05 12:36:33 Uploading - Uploading generated training model\n",
      "2025-03-05 12:36:46 Completed - Training job completed\n",
      "Training seconds: 220\n",
      "Billable seconds: 220\n"
     ]
    }
   ],
   "source": [
    "#Create an estimator object for running a training job\n",
    "estimator = sage.algorithm.AlgorithmEstimator(\n",
    "    algorithm_arn=algo_arn,\n",
    "    base_job_name=\"bin-packing-v3\",\n",
    "    role=role,\n",
    "    train_instance_count=1,\n",
    "    train_instance_type=training_instance_type,\n",
    "    input_mode=\"File\",\n",
    "    output_path=output_location,\n",
    "    sagemaker_session=sagemaker_session,\n",
    "    instance_count=1,\n",
    "    instance_type=training_instance_type\n",
    ")\n",
    "\n",
    "#Run the training job.\n",
    "estimator.fit({\"training\": training_input})"
   ]
  },
  {
   "cell_type": "markdown",
   "id": "b3043cb2",
   "metadata": {},
   "source": [
    "See this [blog-post](https://aws.amazon.com/blogs/machine-learning/easily-monitor-and-visualize-metrics-while-training-models-on-amazon-sagemaker/) for more information how to visualize metrics during the process. You can also open the training job from [Amazon SageMaker console](https://us-east-2.console.aws.amazon.com/sagemaker/home?region=us-east-2#/jobs/) and monitor the metrics/logs in **Monitor** section."
   ]
  },
  {
   "cell_type": "code",
   "execution_count": null,
   "id": "c0ed68dd-54de-41c9-867c-ad740e5845f0",
   "metadata": {
    "tags": []
   },
   "outputs": [],
   "source": [
    "#output is available on following path\n",
    "estimator.output_path"
   ]
  },
  {
   "cell_type": "markdown",
   "id": "b0e129f3",
   "metadata": {},
   "source": [
    "## Note: Inferencing is done within training pipeline. Real time inference endpoint/batch transform job is not required."
   ]
  },
  {
   "cell_type": "markdown",
   "id": "87b61c88",
   "metadata": {},
   "source": [
    "#### 3.3 Inspect the Output in S3"
   ]
  },
  {
   "cell_type": "code",
   "execution_count": 23,
   "id": "ef4fc8e3-aedd-4a54-b272-b5d143c13238",
   "metadata": {
    "tags": []
   },
   "outputs": [],
   "source": [
    "parsed_url = urlparse(estimator.output_path)\n",
    "bucket_name = parsed_url.netloc\n",
    "file_key = parsed_url.path[1:]+'/'+estimator.latest_training_job.job_name+'/output/'+\"model.tar.gz\"\n",
    "\n",
    "s3_client = sagemaker_session.boto_session.client('s3')\n",
    "response = s3_client.get_object(Bucket = sagemaker_session.default_bucket(), Key = file_key) "
   ]
  },
  {
   "cell_type": "code",
   "execution_count": 24,
   "id": "2bd7a0c5-aa1b-48d0-9c4e-326094ee47eb",
   "metadata": {
    "tags": []
   },
   "outputs": [],
   "source": [
    "bucketFolder = estimator.output_path.rsplit('/')[3] +'/Output/'+ estimator.latest_training_job.job_name+'/output/'+\"model.tar.gz\""
   ]
  },
  {
   "cell_type": "code",
   "execution_count": null,
   "id": "efb646ca-f6e0-44d5-955a-090180d43061",
   "metadata": {
    "tags": []
   },
   "outputs": [],
   "source": [
    "s3_conn = boto3.client(\"s3\")\n",
    "bucket_name=bucket\n",
    "with open('output.tar.gz', 'wb') as f:\n",
    "    s3_conn.download_fileobj(bucket_name, bucketFolder, f)\n",
    "    print(\"Output file loaded from bucket\")"
   ]
  },
  {
   "cell_type": "code",
   "execution_count": 28,
   "id": "dbed3fae-df2f-4403-b06f-b19dfbb6da3a",
   "metadata": {
    "tags": []
   },
   "outputs": [],
   "source": [
    "with tarfile.open('output.tar.gz') as file:\n",
    "    file.extractall('./output') "
   ]
  },
  {
   "cell_type": "code",
   "execution_count": null,
   "id": "f12eaec3",
   "metadata": {},
   "outputs": [],
   "source": [
    "output_path = \"output/\"\n",
    "file_path = os.path.join(output_path, \"output.txt\")\n",
    "\n",
    "with open(file_path, \"r\") as file:\n",
    "    content = file.read()\n",
    "\n",
    "print(content)"
   ]
  },
  {
   "cell_type": "markdown",
   "id": "ae1bca1a",
   "metadata": {},
   "source": [
    "### Clean-up"
   ]
  },
  {
   "cell_type": "markdown",
   "id": "76c61993",
   "metadata": {},
   "source": [
    "#### Unsubscribe to the listing (optional)"
   ]
  },
  {
   "cell_type": "markdown",
   "id": "ca58a8f7",
   "metadata": {},
   "source": [
    "If you would like to unsubscribe to the algorithm, follow these steps. Before you cancel the subscription, ensure that you do not have any [deployable model](https://us-east-2.console.aws.amazon.com/sagemaker/home?region=us-east-2#/models) created from the model package or using the algorithm. Note - You can find this information by looking at the container name associated with the model."
   ]
  },
  {
   "cell_type": "markdown",
   "id": "08bc00da",
   "metadata": {},
   "source": [
    "#### Steps to unsubscribe to product from AWS Marketplace:"
   ]
  },
  {
   "cell_type": "markdown",
   "id": "86f8e411",
   "metadata": {},
   "source": [
    "&nbsp; 1. Navigate to **Machine Learning tab** on **Your Software subscriptions page**.  \n",
    "&nbsp; 2. Locate the listing that you want to cancel the subscription for, and then choose **Cancel Subscription** to cancel the subscription."
   ]
  }
 ],
 "metadata": {
  "kernelspec": {
   "display_name": "conda_python3",
   "language": "python",
   "name": "conda_python3"
  },
  "language_info": {
   "codemirror_mode": {
    "name": "ipython",
    "version": 3
   },
   "file_extension": ".py",
   "mimetype": "text/x-python",
   "name": "python",
   "nbconvert_exporter": "python",
   "pygments_lexer": "ipython3",
   "version": "3.10.14"
  }
 },
 "nbformat": 4,
 "nbformat_minor": 5
}
